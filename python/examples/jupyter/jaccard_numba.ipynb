{
 "cells": [
  {
   "cell_type": "code",
   "execution_count": 1,
   "metadata": {},
   "outputs": [],
   "source": [
    "import numpy as np\n",
    "import pyarrow\n",
    "\n",
    "from katana.loops import do_all, do_all_operator\n",
    "from katana.property_graph import PropertyGraph\n",
    "from katana.timer import StatTimer\n",
    "from katana.example_utils import get_input\n",
    "from katana.galois import setActiveThreads"
   ]
  },
  {
   "cell_type": "code",
   "execution_count": 2,
   "metadata": {},
   "outputs": [],
   "source": [
    "@do_all_operator()\n",
    "def jaccard_operator(g, n1_neighbors, n1_size, output, n2):\n",
    "    intersection_size = 0\n",
    "    n2_size = len(g.edges(n2))\n",
    "    for e_iter in g.edges(n2):\n",
    "        ne = g.get_edge_dst(e_iter)\n",
    "        if n1_neighbors[ne]:\n",
    "            intersection_size += 1\n",
    "    union_size = n1_size + n2_size - intersection_size\n",
    "    if union_size > 0:\n",
    "        similarity = float(intersection_size) / union_size\n",
    "    else:\n",
    "        similarity = 1\n",
    "    output[n2] = similarity\n",
    "\n",
    "\n",
    "def jaccard(g, key_node, property_name):\n",
    "    key_neighbors = np.zeros(len(g), dtype=bool)\n",
    "    output = np.empty(len(g), dtype=float)\n",
    "\n",
    "    for e in g.edges(key_node):\n",
    "        n = g.get_edge_dst(e)\n",
    "        key_neighbors[n] = True\n",
    "\n",
    "    do_all(g, jaccard_operator(g, key_neighbors, len(g.edges(key_node)), output),\n",
    "           steal=True, loop_name=\"jaccard\")\n",
    "\n",
    "    g.add_node_property(pyarrow.table({property_name: output}))"
   ]
  },
  {
   "cell_type": "code",
   "execution_count": 3,
   "metadata": {},
   "outputs": [
    {
     "name": "stdout",
     "output_type": "stream",
     "text": [
      "Using threads: 8\n"
     ]
    }
   ],
   "source": [
    "print(\"Using threads:\", setActiveThreads(8))"
   ]
  },
  {
   "cell_type": "code",
   "execution_count": 5,
   "metadata": {},
   "outputs": [
    {
     "name": "stdout",
     "output_type": "stream",
     "text": [
      "4.601\n",
      "Node 2: 0.3333333333333333\n"
     ]
    }
   ],
   "source": [
    "g = PropertyGraph(get_input(\"propertygraphs/ldbc_003\"))\n",
    "\n",
    "timer = StatTimer(\"Jaccard (Property Graph) Numba\")\n",
    "timer.start()\n",
    "jaccard(g, 1, \"JM\")\n",
    "timer.stop()\n",
    "print(timer.get())\n",
    "# del timer\n",
    "\n",
    "print(\"Node {}: {}\".format(2, g.get_node_property(\"JM\")[2]))"
   ]
  }
 ],
 "metadata": {
  "kernelspec": {
   "display_name": "Python 3",
   "language": "python",
   "name": "python3"
  },
  "language_info": {
   "codemirror_mode": {
    "name": "ipython",
    "version": 3
   },
   "file_extension": ".py",
   "mimetype": "text/x-python",
   "name": "python",
   "nbconvert_exporter": "python",
   "pygments_lexer": "ipython3",
   "version": "3.8.5"
  }
 },
 "nbformat": 4,
 "nbformat_minor": 4
}
