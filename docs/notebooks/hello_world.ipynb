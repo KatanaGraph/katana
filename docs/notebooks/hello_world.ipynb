{
 "cells": [
  {
   "cell_type": "markdown",
   "id": "f946a4e9",
   "metadata": {},
   "source": [
    "First steps in Katana on One Host\n",
    "=================================\n",
    "\n",
    "Katana is easiest to use in Conda (for Python users).\n",
    "So make sure you have a [Conda installation](https://conda.io/projects/conda/en/latest/user-guide/install/linux.html).\n",
    "The Katana open-source packages only support Linux x86-64.\n",
    "You can create a Conda environment with Katana and Jupyter installed with:\n",
    "\n",
    "```\n",
    "conda env create -f https://raw.githubusercontent.com/KatanaGraph/katana/master/katana.yml\n",
    "```\n",
    "\n",
    "Finally, you can start Jupyter with the following and open the notebook normally:\n",
    "\n",
    "```\n",
    "conda run -n katana jupyter lab\n",
    "```"
   ]
  },
  {
   "cell_type": "code",
   "execution_count": 1,
   "id": "134c188a",
   "metadata": {
    "pycharm": {
     "name": "#%%\n"
    },
    "tags": [
     "hidecode"
    ]
   },
   "outputs": [],
   "source": [
    "import numpy as np\n",
    "import katana.local\n",
    "import katana.local.analytics"
   ]
  },
  {
   "cell_type": "code",
   "execution_count": null,
   "outputs": [],
   "source": [
    "# Intialize Katana\n",
    "katana.local.initialize()"
   ],
   "metadata": {
    "collapsed": false,
    "pycharm": {
     "name": "#%%\n"
    }
   }
  },
  {
   "cell_type": "code",
   "execution_count": 3,
   "id": "e0b43046",
   "metadata": {
    "pycharm": {
     "name": "#%%\n"
    }
   },
   "outputs": [],
   "source": [
    "from katana.example_data import get_input\n",
    "\n",
    "# Download the input\n",
    "rmat15_cleaned_symmetric_path = get_input(\"propertygraphs/rmat15_cleaned_symmetric\")\n",
    "\n",
    "# Load our graph\n",
    "graph = Graph(rmat15_cleaned_symmetric_path)"
   ]
  },
  {
   "cell_type": "code",
   "execution_count": null,
   "outputs": [],
   "source": [
    "# Run our algorithm\n",
    "katana.local.analytics.bfs(graph, 0, \"level\")\n",
    "\n",
    "distances = graph.get_node_property(\"distance\").to_numpy()"
   ],
   "metadata": {
    "collapsed": false,
    "pycharm": {
     "name": "#%%\n"
    }
   }
  },
  {
   "cell_type": "code",
   "execution_count": 7,
   "id": "201e853b",
   "metadata": {
    "scrolled": true,
    "pycharm": {
     "name": "#%%\n"
    }
   },
   "outputs": [
    {
     "data": {
      "text/plain": [
       "(array([0, 1, 1, 1, 1, 1, 1, 1, 1, 1, 1, 1, 1, 1, 1, 1, 1, 1, 1, 1],\n",
       "       dtype=uint32),\n",
       " array([1, 1, 1, 1, 1, 2, 1, 1, 1, 1, 1, 1, 1, 1, 1, 2, 1, 2, 1, 1],\n",
       "       dtype=uint32))"
      ]
     },
     "execution_count": 7,
     "metadata": {},
     "output_type": "execute_result"
    }
   ],
   "source": [
    "# Look at some arbitrary results\n",
    "distances[:20], distances[490:510]"
   ]
  }
 ],
 "metadata": {
  "nbreg": {
   "diff_ignore": [
    "/metadata/language_info/version"
   ]
  },
  "kernelspec": {
   "display_name": "Python 3",
   "language": "python",
   "name": "python3"
  },
  "language_info": {
   "codemirror_mode": {
    "name": "ipython",
    "version": 3
   },
   "file_extension": ".py",
   "mimetype": "text/x-python",
   "name": "python",
   "nbconvert_exporter": "python",
   "pygments_lexer": "ipython3",
   "version": "3.8.8"
  }
 },
 "nbformat": 4,
 "nbformat_minor": 5
}