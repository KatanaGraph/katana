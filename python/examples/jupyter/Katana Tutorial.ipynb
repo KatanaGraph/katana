{
 "cells": [
  {
   "cell_type": "code",
   "execution_count": 1,
   "id": "fb677923",
   "metadata": {
    "tags": [
     "hidecode"
    ]
   },
   "outputs": [],
   "source": [
    "# Constants\n",
    "INFINITY = 1073741823\n",
    "rmat15_cleaned_symmetric_path = \"/home/amp/shared/Katana/katana-enterprise/cmake-build-debug/inputs/v18/propertygraphs/rmat15_cleaned_symmetric\""
   ]
  },
  {
   "cell_type": "code",
   "execution_count": 2,
   "id": "134c188a",
   "metadata": {
    "tags": [
     "hidecode"
    ]
   },
   "outputs": [],
   "source": [
    "import numpy as np\n",
    "import timeit"
   ]
  },
  {
   "cell_type": "code",
   "execution_count": 3,
   "id": "e53dc295",
   "metadata": {
    "tags": [
     "hidecode"
    ]
   },
   "outputs": [
    {
     "name": "stdout",
     "output_type": "stream",
     "text": [
      "Using threads: 8\n",
      "Version: 0.1.12.dev+62.172.dirty.9fdc46.unmerged\n"
     ]
    }
   ],
   "source": [
    "import katana.galois\n",
    "from katana.datastructures import InsertBag\n",
    "from katana.loops import do_all, do_all_operator\n",
    "from katana.property_graph import PropertyGraph\n",
    "\n",
    "print(\"Using threads:\", katana.galois.set_active_threads(8))\n",
    "print(\"Version:\", katana.__version__)"
   ]
  },
  {
   "cell_type": "markdown",
   "id": "c701a19a",
   "metadata": {},
   "source": [
    "Implementing an Algorithm in Python\n",
    "==============================="
   ]
  },
  {
   "cell_type": "code",
   "execution_count": 4,
   "id": "22ed5982",
   "metadata": {},
   "outputs": [],
   "source": [
    "def bfs(graph: PropertyGraph, source):\n",
    "    \"\"\"\n",
    "    Compute the BFS distance to all nodes from source.\n",
    "\n",
    "    The algorithm in bulk-synchronous level by level.\n",
    "\n",
    "    :param graph: The graph to use.\n",
    "    :param source: The source node for the traversal.\n",
    "    :return: An array of distances, indexed by node ID.\n",
    "    \"\"\"\n",
    "    next_level_number = 0\n",
    "\n",
    "    # The work lists for the current and next levels using a Katana concurrent data structure.\n",
    "    curr_level_worklist = InsertBag[np.uint32]()\n",
    "    next_level_worklist = InsertBag[np.uint32]()\n",
    "\n",
    "    # Create an initialize the distance array. source is 0, everywhere else is INFINITY\n",
    "    distance = np.empty((len(graph),), dtype=np.uint32)\n",
    "    distance[:] = INFINITY\n",
    "    distance[source] = 0\n",
    "\n",
    "    # Start processing with just the source node.\n",
    "    next_level_worklist.push(source)\n",
    "    # Execute until the worklist is empty.\n",
    "    while not next_level_worklist.empty():\n",
    "        # Swap the current and next work lists\n",
    "        curr_level_worklist, next_level_worklist = next_level_worklist, curr_level_worklist\n",
    "\n",
    "        # Clear the worklist for the next level.\n",
    "        next_level_worklist.clear()\n",
    "        next_level_number += 1\n",
    "\n",
    "        # In parallel process the current worklist, by applying bfs_operator for each\n",
    "        # element of the worklist.\n",
    "        do_all(\n",
    "            curr_level_worklist,\n",
    "            # The call here binds the initial arguments of bfs_operator to the values it needs.\n",
    "            bfs_operator(graph, next_level_worklist, next_level_number, distance)\n",
    "        )\n",
    "\n",
    "    return distance"
   ]
  },
  {
   "cell_type": "code",
   "execution_count": 5,
   "id": "50389b02",
   "metadata": {},
   "outputs": [],
   "source": [
    "# This function is marked as a Katana operator meaning that it will be compiled to\n",
    "# native code and prepared for use with Katana do_all.\n",
    "@do_all_operator()\n",
    "def bfs_operator(graph: PropertyGraph, next_level_worklist, next_level_number, distance, node_id):\n",
    "    \"\"\"\n",
    "    The operator called for each node in the work list.\n",
    "\n",
    "    The initial 4 arguments are provided by bfs above. node_id is taken from\n",
    "    the worklist and passed to this function by do_all.\n",
    "\n",
    "    :param next_level_worklist: The work list to add next nodes to.\n",
    "    :param next_level_number: The level to assign to nodes we find.\n",
    "    :param distance: The distance array to fill with data.\n",
    "    :param node_id: The node we are processing.\n",
    "    :return:\n",
    "    \"\"\"\n",
    "    # Iterate over the out edges of our node\n",
    "    for ii in graph.edges(node_id):\n",
    "        # Get the destination of the edge\n",
    "        dst = graph.get_edge_dst(ii)\n",
    "        # If the destination has not yet been reached set it's level and add it\n",
    "        # to the work list, so it's out edges can be processed in the next level.\n",
    "        if distance[dst] == INFINITY:\n",
    "            distance[dst] = next_level_number\n",
    "            next_level_worklist.push(dst)\n",
    "        # There is a race here, but it's safe. If multiple calls to operator add\n",
    "        # the same destination, they will all set the same level. It will create\n",
    "        # more work since the node will be processed more than once in the next\n",
    "        # level, but it avoids atomic operations, so it can still be a win in\n",
    "        # low-degree graphs."
   ]
  },
  {
   "cell_type": "code",
   "execution_count": 6,
   "id": "0a864fb0",
   "metadata": {},
   "outputs": [
    {
     "name": "stdout",
     "output_type": "stream",
     "text": [
      "#Nodes: 32768, #Edges: 363194\n"
     ]
    }
   ],
   "source": [
    "# Load our graph\n",
    "graph = PropertyGraph(rmat15_cleaned_symmetric_path)\n",
    "\n",
    "print(f\"#Nodes: {len(graph)}, #Edges: {graph.num_edges()}\")\n",
    "\n",
    "# Run our algorithm\n",
    "distances = bfs(graph, 0)"
   ]
  },
  {
   "cell_type": "markdown",
   "id": "a0925dde",
   "metadata": {},
   "source": [
    "rmat10 visualized\n",
    "--------------------------\n",
    "\n",
    "\n",
    "![rmat10 visualiation](rmat10.png)\n",
    "\n",
    "The algorithm is run on rmat15 which is 32 times larger. However, the graph structure is similar: low diameter, with a small number of hub nodes. The nodes are sorted by degree, so 0 is the \"largest\" hub node in these graphs."
   ]
  },
  {
   "cell_type": "code",
   "execution_count": 7,
   "id": "201e853b",
   "metadata": {},
   "outputs": [
    {
     "data": {
      "text/plain": [
       "(array([0, 1, 1, 1, 1, 1, 1, 1, 1, 1, 1, 1, 1, 1, 1, 1, 1, 1, 1, 1],\n",
       "       dtype=uint32),\n",
       " array([1, 1, 1, 1, 1, 2, 1, 1, 1, 1, 1, 1, 1, 1, 1, 2, 1, 2, 1, 1],\n",
       "       dtype=uint32))"
      ]
     },
     "execution_count": 7,
     "metadata": {},
     "output_type": "execute_result"
    }
   ],
   "source": [
    "distances[:20], distances[490:510]"
   ]
  },
  {
   "cell_type": "code",
   "execution_count": 8,
   "id": "f09930eb",
   "metadata": {
    "pycharm": {
     "name": "#%%\n"
    }
   },
   "outputs": [
    {
     "data": {
      "text/plain": [
       "2"
      ]
     },
     "execution_count": 8,
     "metadata": {},
     "output_type": "execute_result"
    }
   ],
   "source": [
    "np.max(distances[distances < INFINITY])"
   ]
  },
  {
   "cell_type": "code",
   "execution_count": 9,
   "id": "041dd310",
   "metadata": {
    "pycharm": {
     "name": "#%%\n"
    }
   },
   "outputs": [
    {
     "data": {
      "text/plain": [
       "3416"
      ]
     },
     "execution_count": 9,
     "metadata": {},
     "output_type": "execute_result"
    }
   ],
   "source": [
    "np.count_nonzero(distances == INFINITY)"
   ]
  },
  {
   "cell_type": "code",
   "execution_count": 10,
   "id": "9862731b",
   "metadata": {},
   "outputs": [
    {
     "name": "stdout",
     "output_type": "stream",
     "text": [
      "1.81780002953019 ms\n"
     ]
    }
   ],
   "source": [
    "print(timeit.timeit(lambda: bfs(graph, 0), number=100) / 100 * 1000, \"ms\")"
   ]
  },
  {
   "cell_type": "markdown",
   "id": "f7cfe694",
   "metadata": {},
   "source": [
    "Calling an Existing Algorithm from Python\n",
    "==============================="
   ]
  },
  {
   "cell_type": "code",
   "execution_count": 11,
   "id": "5e27473d",
   "metadata": {},
   "outputs": [],
   "source": [
    "from katana import analytics\n",
    "\n",
    "try:\n",
    "    graph.remove_node_property(\"distance\")\n",
    "except ValueError:\n",
    "    pass\n",
    "analytics.bfs(graph, 0, \"distance\")\n",
    "\n",
    "distances = graph.get_node_property(\"distance\").to_numpy()"
   ]
  },
  {
   "cell_type": "code",
   "execution_count": 12,
   "id": "93101cc6",
   "metadata": {},
   "outputs": [
    {
     "data": {
      "text/plain": [
       "2"
      ]
     },
     "execution_count": 12,
     "metadata": {},
     "output_type": "execute_result"
    }
   ],
   "source": [
    "np.max(distances[distances < INFINITY])"
   ]
  },
  {
   "cell_type": "code",
   "execution_count": 13,
   "id": "e5281cc4",
   "metadata": {},
   "outputs": [
    {
     "data": {
      "text/plain": [
       "3416"
      ]
     },
     "execution_count": 13,
     "metadata": {},
     "output_type": "execute_result"
    }
   ],
   "source": [
    "np.count_nonzero(distances == INFINITY)"
   ]
  },
  {
   "cell_type": "code",
   "execution_count": 14,
   "id": "81a71d09",
   "metadata": {},
   "outputs": [
    {
     "name": "stdout",
     "output_type": "stream",
     "text": [
      "1.3344515999779105 ms\n"
     ]
    }
   ],
   "source": [
    "def run_canned_bfs():\n",
    "    analytics.bfs(graph, 0, \"distance\")\n",
    "    graph.remove_node_property(\"distance\")\n",
    "\n",
    "graph.remove_node_property(\"distance\")\n",
    "print(timeit.timeit(run_canned_bfs, number=100) / 100 * 1000, \"ms\")"
   ]
  },
  {
   "cell_type": "markdown",
   "id": "3262b901",
   "metadata": {},
   "source": [
    "Scaling-out\n",
    "=========\n",
    "\n",
    "The open-source Katana supports graph algorithms on a single machine. This is useful and powerful, but limits graphs to those that can fit in memory on a single machine. Our enterprise offering supports graph algorithms on _distributed_ graphs. This supports much larger graphs, and much more computing power. Katana Enterprise will provide an interface similar to the one shown here for distributed graphs, including custom algorithms written in Python.\n",
    "\n",
    "(Python support for distributed graphs will be available in enterprise Katana by the end of Q2 2021.)"
   ]
  },
  {
   "cell_type": "markdown",
   "id": "f69c4a18",
   "metadata": {},
   "source": [
    "Trying out Katana Yourself\n",
    "==========================\n",
    "\n",
    "Katana is easiest to use in Conda (for Python users). So make sure you have a [Conda installation](https://conda.io/projects/conda/en/latest/user-guide/install/linux.html).\n",
    "Then you can create a Conda environment with Katana and Jupyter installed with:\n",
    "\n",
    "```\n",
    "conda env create -f https://raw.githubusercontent.com/KatanaGraph/katana/master/katana.yml\n",
    "```\n",
    "\n",
    "You can download this Jupyter notebook from: https://raw.githubusercontent.com/KatanaGraph/katana/master/python/examples/jupyter/Katana%20Tutorial.ipynb\n",
    "\n",
    "Finally, uou can start Jupyter with and open the notebook normally:\n",
    "\n",
    "```\n",
    "conda run -n katana jupyter notebook\n",
    "```\n"
   ]
  }
 ],
 "metadata": {
  "celltoolbar": "Tags",
  "kernelspec": {
   "display_name": "Python 3",
   "language": "python",
   "name": "python3"
  },
  "language_info": {
   "codemirror_mode": {
    "name": "ipython",
    "version": 3
   },
   "file_extension": ".py",
   "mimetype": "text/x-python",
   "name": "python",
   "nbconvert_exporter": "python",
   "pygments_lexer": "ipython3",
   "version": "3.8.8"
  }
 },
 "nbformat": 4,
 "nbformat_minor": 5
}
