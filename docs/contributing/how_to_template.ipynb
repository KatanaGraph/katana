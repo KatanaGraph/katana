{
 "cells": [
  {
   "cell_type": "markdown",
   "id": "5e8cf35c",
   "metadata": {},
   "source": [
    "# How-to template"
   ]
  },
  {
   "cell_type": "markdown",
   "id": "3da983f5",
   "metadata": {},
   "source": [
    "<div class=\"alert alert-info\">\n",
    "\n",
    "Note\n",
    "\n",
    "This template is for a How-to guide that takes the reader through a detailed series of steps required to do an individual task/procedure. Download the guide as a Jupypter notebook, delete the note cell, and follow the section structure / [style](documentation.rst#style).\n",
    "\n",
    "**Title**\n",
    "\n",
    "Replace \"How-to template\" with the name you want to publish.\n",
    "\n",
    "**Before you start**\n",
    "\n",
    "This section prevents readers from getting halfway through and discovering that they need to go and read other documentation before they can continue. Prerequisites can include other articles or information to read, or it can be technical dependencies such as requiring an internet connection, or particular software.\n",
    "\n",
    "Describe what the audience needs to know, or needs to have, before they attempt the How-to. By stating the requirements up-front, you prevent your readers from having a bad experience with your How-to. You must include links to procedures or information about how to get what they need. If not possible, give useful pointers.\n",
    "\n",
    "Delete this section if your readers can go to the steps without requiring any prerequisite knowledge/tools.\n",
    "\n",
    "**Step-by-step guide**\n",
    "\n",
    "When you are explaining steps in a process, it can be useful to include screenshots for each key part of the process. This can help readers orientate themselves as they move through the steps. It can also help someone who is evaluating the software see how it works without having to install it.\n",
    "\n",
    "</div>"
   ]
  },
  {
   "cell_type": "markdown",
   "id": "31e94210",
   "metadata": {},
   "source": [
    "Summarize what this How-to guide is about in a sentence or two.\n",
    "Ensure you link to the relevant explanations in the overview so that the reader can gain more understanding of the related topics.\n",
    "\n",
    "**Keywords:** (Optional) add comma-separated keywords."
   ]
  },
  {
   "cell_type": "markdown",
   "id": "44682159",
   "metadata": {},
   "source": [
    "## Before you start"
   ]
  },
  {
   "cell_type": "markdown",
   "id": "26514062",
   "metadata": {},
   "source": [
    "Before you begin, make sure you meet these prerequisites:\n",
    "\n",
    "* Prerequisite one\n",
    "* Prerequisite two\n",
    "\n",
    "Include other important information here, such as known issues or bugs."
   ]
  },
  {
   "cell_type": "markdown",
   "id": "8fe0a83c",
   "metadata": {},
   "source": [
    "## Step-by-step guide"
   ]
  },
  {
   "cell_type": "markdown",
   "id": "d14ee340",
   "metadata": {},
   "source": [
    "### Title for step (image or screenshot variant)"
   ]
  },
  {
   "cell_type": "markdown",
   "id": "182f2682",
   "metadata": {},
   "source": [
    "![Katana Graph Symbol](./images/KatanaGraphSymbol.jpg)\n",
    "\n",
    "Brief instructions explaining how to interpret the image. When an image, such as a screenshot, is quicker to interpret than descriptive text, put the screenshot first, otherwise lead with the text."
   ]
  },
  {
   "cell_type": "markdown",
   "id": "916b7653",
   "metadata": {},
   "source": [
    "### Title for step (ordered list variant)"
   ]
  },
  {
   "cell_type": "markdown",
   "id": "f1c00557",
   "metadata": {},
   "source": [
    "Lead-in sentence for an ordered list:\n",
    "\n",
    "1. Sub-step A\n",
    "1. Sub-step B\n",
    "1. Sub-step C"
   ]
  },
  {
   "cell_type": "markdown",
   "id": "433f2d30",
   "metadata": {},
   "source": [
    "### Title for step (code snippet variant)\n",
    "\n",
    "Lead-in sentence explaining the code snippet. Describe what you are doing and your expected result. Code must not be pseudocode."
   ]
  },
  {
   "cell_type": "markdown",
   "id": "8435f51e",
   "metadata": {},
   "source": [
    "<div class=\"alert alert-info\">\n",
    "\n",
    "Example\n",
    "\n",
    "Import the `time` module and print the execution time after running `time.sleep` for two seconds.\n",
    "\n",
    "</div>"
   ]
  },
  {
   "cell_type": "code",
   "execution_count": 2,
   "id": "8948cf69",
   "metadata": {},
   "outputs": [
    {
     "name": "stdout",
     "output_type": "stream",
     "text": [
      "2.0022854804992676\n"
     ]
    }
   ],
   "source": [
    "import time\n",
    "\n",
    "start = time.time()\n",
    "time.sleep(2)\n",
    "end = time.time()\n",
    "print(end - start)"
   ]
  },
  {
   "cell_type": "markdown",
   "id": "a0755bbf",
   "metadata": {},
   "source": [
    "### Conclusion\n",
    "\n",
    "Provide a summary of the steps completed and explain what the user has achieved by following them. You can also include links to related guides that may help the reader reinforce concepts discussed in this How-to guide."
   ]
  }
 ],
 "metadata": {
  "interpreter": {
   "hash": "709b1090c1def203d7e6252f3736e564687ea2bfc67a318b441390bcbc168ca6"
  },
  "kernelspec": {
   "display_name": "Python 3.8.10 64-bit ('base': conda)",
   "name": "python3"
  },
  "language_info": {
   "codemirror_mode": {
    "name": "ipython",
    "version": 3
   },
   "file_extension": ".py",
   "mimetype": "text/x-python",
   "name": "python",
   "nbconvert_exporter": "python",
   "pygments_lexer": "ipython3",
   "version": "3.8.10"
  }
 },
 "nbformat": 4,
 "nbformat_minor": 5
}
