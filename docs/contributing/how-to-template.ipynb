{
 "cells": [
  {
   "cell_type": "markdown",
   "id": "47c10d15",
   "metadata": {},
   "source": [
    "# Instructions\n",
    "* Commit this notebook with your descriptive title from the question below in `katana-enterprise/docs/notebooks`. \n",
    "* Answer the questions below in the cells provided.\n",
    "* When possible, please start from simpler actions to more complex operations.\n",
    "* Instruct the user from your User Start Point to your User End Point. They can start and end where it seems appropriate to you. Your steps should be hand-help baby steps.\n",
    "    * Describe your what you are doing and your expected result.\n",
    "    * Show your input code.\n",
    "    * Show your output. This can be the result of the Jupyter code cell.\n",
    "    * Include pictures of anything not included in a code cell (e.g. interacting with a GUI).\n",
    "* Before using an acryonym, write it out at first introduction. For example: \"The National Aeronautics and Space Administration (NASA)... Aftewards, NASA...\"\n",
    "* Provide the necessary explanation and link to documents about other topics if you are unsure of their relevance.\n",
    "* Focus only on the steps the user needs to take.\n",
    "    * Maybe the command you’re introducing has many other options, or maybe there are different ways to access a certain API. Right now, your user does not need to know about those in order to make progress.\n",
    "\n",
    "## Note\n",
    "Maybe your notebook is something like demo a single function. In that case, your notebook can be \"Explore the functionality of `ExampleFunc`\" where you provide meaningful demos of each of the function's use cases.\n",
    "\n",
    "## Questions (**Q** - *example A*)\n",
    "* **What is a descriptive title of your document?** - *How to Recover from a Server Crash”*\n",
    "* **What Jupyter notebook is this guide derived from?** - *KatanaGraph/notebooks-internal/acceptance/2021_H1_M2_recover_from_server_crash.ipynb*\n",
    "* **What problem is being solved, how, and why?** - *What: Lorem ipsum dolor sit amet. How: Lorem ipsum dolor sit amet. Why: Lorem ipsum dolor sit amet.*\n",
    "* User Start Point\n",
    "    * **What tools and equipment must the user have?** - *The user must have a cluster running on... They need to be using Ubuntu 20.04... Etc.*\n",
    "    * **What configuration must the user have?** - *Assuming that you are using a conda environment with the following packages. Any other configuration of the tools or equipment required.*\n",
    "    * **What knowledge must the user already know?** - *The user should be familiar with setting up an cluster on AWS... other assumed knowledge.*\n",
    "* User End Point\n",
    "    * **What will the user have accomplished by following the steps?** - *They will have recovered x,y,z in the event of a server crash*"
   ]
  },
  {
   "cell_type": "markdown",
   "id": "536eb682",
   "metadata": {},
   "source": [
    "# Break up large code cells into atomic steps using the cell structure below:\n",
    "***"
   ]
  },
  {
   "cell_type": "markdown",
   "id": "4e55552a",
   "metadata": {},
   "source": [
    "# 1. Description of step 1"
   ]
  },
  {
   "cell_type": "markdown",
   "id": "22d70dba",
   "metadata": {},
   "source": [
    "Describe what you are doing and your expected result.\n",
    "\n",
    "Show your input code and run the code cell to show output:"
   ]
  },
  {
   "cell_type": "code",
   "execution_count": null,
   "id": "ecc4b483",
   "metadata": {},
   "outputs": [],
   "source": []
  },
  {
   "cell_type": "markdown",
   "id": "9626f208",
   "metadata": {},
   "source": [
    "# 2. Description of step 2\n",
    "Describe what you are doing and your expected result.\n",
    "\n",
    "Show your input code and run the code cell to show output:"
   ]
  },
  {
   "cell_type": "code",
   "execution_count": null,
   "id": "a9784b45",
   "metadata": {},
   "outputs": [],
   "source": []
  },
  {
   "cell_type": "markdown",
   "id": "b82c2e4d",
   "metadata": {},
   "source": [
    "# Etc."
   ]
  }
 ],
 "metadata": {
  "kernelspec": {
   "display_name": "Python 3 (ipykernel)",
   "language": "python",
   "name": "python3"
  },
  "language_info": {
   "codemirror_mode": {
    "name": "ipython",
    "version": 3
   },
   "file_extension": ".py",
   "mimetype": "text/x-python",
   "name": "python",
   "nbconvert_exporter": "python",
   "pygments_lexer": "ipython3",
   "version": "3.8.10"
  }
 },
 "nbformat": 4,
 "nbformat_minor": 5
}
