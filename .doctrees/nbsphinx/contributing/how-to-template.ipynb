{
 "cells": [
  {
   "cell_type": "markdown",
   "metadata": {},
   "source": [
    "# \\<Title of how-to guide\\>"
   ]
  },
  {
   "cell_type": "markdown",
   "metadata": {},
   "source": [
    "\\<Introduction - Summarize what this how-to guide is about in a sentence or two. Ensure you link to the relevant explanations in the introduction so that the reader can gain more understanding of the related topics.\\>"
   ]
  },
  {
   "cell_type": "markdown",
   "metadata": {},
   "source": [
    "## Requirements\n",
    "\n",
    "Before you begin, make sure you meet these prerequisites:\n",
    "\n",
    "* \\<First prerequisite\\>\n",
    "* \\<Next prerequisite\\>\n",
    "\n",
    "\\<Include other important information here, such as known issues or bugs.\\>"
   ]
  },
  {
   "cell_type": "markdown",
   "metadata": {},
   "source": [
    "## Setup"
   ]
  },
  {
   "cell_type": "markdown",
   "metadata": {},
   "source": [
    "### Load libraries\n",
    "\n",
    "\\<For example:\\>"
   ]
  },
  {
   "cell_type": "code",
   "execution_count": null,
   "metadata": {},
   "outputs": [],
   "source": [
    "import numpy as np\n",
    "\n",
    "from katana import remote\n",
    "from katana.remote import import_data, analytics"
   ]
  },
  {
   "cell_type": "markdown",
   "metadata": {},
   "source": [
    "### Connect client\n",
    "\n",
    "Starting a Katana remote Client is required to interface with the Katana remote service and schedule distributed operations. Provide the Katana Graph server address by setting the environment variable `KATANA_SERVER_ADDRESS`. This variable applies only to your current shell session. If you want the variable to be automatically set for future shell sessions, set the variable in your shell startup file. For more detailed information refer to the Getting Started section of the documentation. Alternatively, you can pass in the address of the remote service by calling `Client(address=\"localhost:8080\")` for Linux machines or `Client(address=\"host.docker.internal:8080\")` for macOS and Windows machines."
   ]
  },
  {
   "cell_type": "code",
   "execution_count": null,
   "metadata": {},
   "outputs": [],
   "source": [
    "# Connect to the Katana Server\n",
    "client = remote.Client()"
   ]
  },
  {
   "cell_type": "markdown",
   "metadata": {},
   "source": [
    "### Load data\n",
    "\n",
    "\\<Create a new graph and load data to that graph.\\>"
   ]
  },
  {
   "cell_type": "markdown",
   "metadata": {},
   "source": [
    "## \\<Title of step 1\\>\n",
    "\n",
    "### \\<Title of substep 1\\>\n",
    "\n",
    "### \\<Title of next substep\\>"
   ]
  },
  {
   "cell_type": "markdown",
   "metadata": {},
   "source": [
    "## \\<Title of next step\\>\n",
    "\n",
    "### \\<Title of substep 1\\>\n",
    "\n",
    "### \\<Title of next substep\\>"
   ]
  },
  {
   "cell_type": "markdown",
   "metadata": {},
   "source": [
    "## Next Steps\n",
    "\n",
    "\\<Provide recommendations of other resources or documentation sections for the reader. Include links for each recommendation.\\>"
   ]
  }
 ],
 "metadata": {
  "language_info": {
   "name": "python"
  }
 },
 "nbformat": 4,
 "nbformat_minor": 2
}
