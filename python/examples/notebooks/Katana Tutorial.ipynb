{
 "cells": [
  {
   "cell_type": "markdown",
   "id": "e8545143",
   "metadata": {
    "pycharm": {
     "name": "#%% md\n"
    }
   },
   "source": [
    "<img src=\"https://venturebeat.com/wp-content/uploads/2021/02/katana-graph.png?fit=800%2C356&strip=all\" alt=\"Katana Graph\" width=\"400\" height=\"178\">\n",
    "\n",
    "This notebook is a tutorial for the Katana Python API on shared memory originally written for [KGC](https://www.knowledgegraph.tech/) 2021."
   ]
  },
  {
   "cell_type": "markdown",
   "id": "f946a4e9",
   "metadata": {},
   "source": [
    "Trying out Katana Yourself\n",
    "==========================\n",
    "\n",
    "Katana is easiest to use in Conda (for Python users).\n",
    "So make sure you have a [Conda installation](https://conda.io/projects/conda/en/latest/user-guide/install/linux.html).\n",
    "The Katana open-source packages only support Linux x86-64.\n",
    "You can create a Conda environment with Katana and Jupyter installed with:\n",
    "\n",
    "```\n",
    "conda env create -f https://raw.githubusercontent.com/KatanaGraph/katana/master/katana.yml\n",
    "```\n",
    "\n",
    "You can download this Jupyter notebook from: https://raw.githubusercontent.com/KatanaGraph/katana/master/python/examples/jupyter/Katana%20Tutorial.ipynb\n",
    "\n",
    "Finally, uou can start Jupyter with and open the notebook normally:\n",
    "\n",
    "```\n",
    "conda run -n katana jupyter notebook\n",
    "```\n",
    "(or `jupyter lab`)\n"
   ]
  },
  {
   "cell_type": "code",
   "execution_count": 1,
   "id": "134c188a",
   "metadata": {
    "pycharm": {
     "name": "#%%\n"
    },
    "tags": [
     "hidecode"
    ]
   },
   "outputs": [],
   "source": [
    "import numpy as np\n",
    "import timeit"
   ]
  },
  {
   "cell_type": "code",
   "execution_count": 2,
   "id": "e53dc295",
   "metadata": {
     "nbreg": {
       "diff_ignore": ["/outputs/0/data/text/plain"]
     }
   },
   "outputs": [
    {
     "data": {
      "text/plain": [
       "8"
      ]
     },
     "execution_count": 2,
     "metadata": {},
     "output_type": "execute_result"
    }
   ],
   "source": [
    "import katana.galois\n",
    "from katana.datastructures import InsertBag\n",
    "from katana.loops import do_all, do_all_operator\n",
    "from katana.property_graph import PropertyGraph\n",
    "\n",
    "import katana.local\n",
    "katana.local.initialize()\n",
    "\n",
    "katana.galois.set_active_threads(8)"
   ]
  },
  {
   "cell_type": "code",
   "execution_count": 3,
   "id": "e0b43046",
   "metadata": {
    "pycharm": {
     "name": "#%%\n"
    }
   },
   "outputs": [],
   "source": [
    "from katana.example_utils import get_input\n",
    "\n",
    "# Constants\n",
    "INFINITY = 1073741823\n",
    "\n",
    "# Download the input\n",
    "rmat15_cleaned_symmetric_path = get_input(\"propertygraphs/rmat15_cleaned_symmetric\")"
   ]
  },
  {
   "cell_type": "markdown",
   "id": "c701a19a",
   "metadata": {},
   "source": [
    "Implementing an Algorithm in Katana Python\n",
    "=========================================="
   ]
  },
  {
   "cell_type": "code",
   "execution_count": 4,
   "id": "22ed5982",
   "metadata": {},
   "outputs": [],
   "source": [
    "def bfs(graph: PropertyGraph, source):\n",
    "    \"\"\"\n",
    "    Compute the BFS distance to all nodes from source.\n",
    "\n",
    "    The algorithm in bulk-synchronous level by level.\n",
    "\n",
    "    :param graph: The graph to use.\n",
    "    :param source: The source node for the traversal.\n",
    "    :return: An array of distances, indexed by node ID.\n",
    "    \"\"\"\n",
    "    next_level_number = 0\n",
    "\n",
    "    # The work lists for the current and next levels using a Katana concurrent data structure.\n",
    "    curr_level_worklist = InsertBag[np.uint32]()\n",
    "    next_level_worklist = InsertBag[np.uint32]()\n",
    "\n",
    "    # Create an initialize the distance array. source is 0, everywhere else is INFINITY\n",
    "    distance = np.empty((len(graph),), dtype=np.uint32)\n",
    "    distance[:] = INFINITY\n",
    "    distance[source] = 0\n",
    "\n",
    "    # Start processing with just the source node.\n",
    "    next_level_worklist.push(source)\n",
    "    # Execute until the worklist is empty.\n",
    "    while not next_level_worklist.empty():\n",
    "        # Swap the current and next work lists\n",
    "        curr_level_worklist, next_level_worklist = next_level_worklist, curr_level_worklist\n",
    "\n",
    "        # Clear the worklist for the next level.\n",
    "        next_level_worklist.clear()\n",
    "        next_level_number += 1\n",
    "\n",
    "        # In parallel process the current worklist, by applying bfs_operator for each\n",
    "        # element of the worklist.\n",
    "        do_all(\n",
    "            curr_level_worklist,\n",
    "            # The call here binds the initial arguments of bfs_operator.\n",
    "            bfs_operator(graph, next_level_worklist, next_level_number, distance)\n",
    "        )\n",
    "\n",
    "    return distance"
   ]
  },
  {
   "cell_type": "code",
   "execution_count": 5,
   "id": "50389b02",
   "metadata": {},
   "outputs": [],
   "source": [
    "# This function is marked as a Katana operator meaning that it will be compiled to\n",
    "# native code and prepared for use with Katana do_all.\n",
    "@do_all_operator()\n",
    "def bfs_operator(graph: PropertyGraph, next_level_worklist, next_level_number, distance, node_id):\n",
    "    \"\"\"\n",
    "    The operator called for each node in the work list.\n",
    "\n",
    "    The initial 4 arguments are provided by bfs above. node_id is taken from\n",
    "    the worklist and passed to this function by do_all.\n",
    "\n",
    "    :param next_level_worklist: The work list to add next nodes to.\n",
    "    :param next_level_number: The level to assign to nodes we find.\n",
    "    :param distance: The distance array to fill with data.\n",
    "    :param node_id: The node we are processing.\n",
    "    :return:\n",
    "    \"\"\"\n",
    "    # Iterate over the out edges of our node\n",
    "    for edge_id in graph.edges(node_id):\n",
    "        # Get the destination of the edge\n",
    "        dst = graph.get_edge_dest(edge_id)\n",
    "        # If the destination has not yet been reached set it's level and add it\n",
    "        # to the work list, so it's out edges can be processed in the next level.\n",
    "        if distance[dst] == INFINITY:\n",
    "            distance[dst] = next_level_number\n",
    "            next_level_worklist.push(dst)\n",
    "        # There is a race here, but it's safe. If multiple calls to operator add\n",
    "        # the same destination, they will all set the same level. It will create\n",
    "        # more work since the node will be processed more than once in the next\n",
    "        # level, but it avoids atomic operations, so it can still be a win in\n",
    "        # low-degree graphs."
   ]
  },
  {
   "cell_type": "code",
   "execution_count": 6,
   "id": "0a864fb0",
   "metadata": {},
   "outputs": [
    {
     "name": "stdout",
     "output_type": "stream",
     "text": [
      "#Nodes: 32768, #Edges: 363194\n"
     ]
    }
   ],
   "source": [
    "# Load our graph\n",
    "graph = PropertyGraph(rmat15_cleaned_symmetric_path)\n",
    "\n",
    "print(f\"#Nodes: {len(graph)}, #Edges: {graph.num_edges()}\")\n",
    "\n",
    "# Run our algorithm\n",
    "distances = bfs(graph, 0)"
   ]
  },
  {
   "cell_type": "markdown",
   "id": "a0925dde",
   "metadata": {},
   "source": [
    "Rmat10 Visualized\n",
    "-----------------\n",
    "\n",
    "\n",
    "<img src=\"rmat10.jpg\" alt=\"A graph with a large number of low-degree nodes and a few very high-degree hub nodes.\" />\n",
    "\n",
    "The algorithm is run on rmat15 which is 32 times larger.\n",
    "However, the graph structure is similar: low diameter, with a small number of hub nodes.\n",
    "Node 0 is the \"largest\" hub node in these graphs."
   ]
  },
  {
   "cell_type": "code",
   "execution_count": 7,
   "id": "201e853b",
   "metadata": {
    "scrolled": true
   },
   "outputs": [
    {
     "data": {
      "text/plain": [
       "(array([0, 1, 1, 1, 1, 1, 1, 1, 1, 1, 1, 1, 1, 1, 1, 1, 1, 1, 1, 1],\n",
       "       dtype=uint32),\n",
       " array([1, 1, 1, 1, 1, 2, 1, 1, 1, 1, 1, 1, 1, 1, 1, 2, 1, 2, 1, 1],\n",
       "       dtype=uint32))"
      ]
     },
     "execution_count": 7,
     "metadata": {},
     "output_type": "execute_result"
    }
   ],
   "source": [
    "# Look at some arbitrary results\n",
    "distances[:20], distances[490:510]"
   ]
  },
  {
   "cell_type": "code",
   "execution_count": 8,
   "id": "f09930eb",
   "metadata": {
    "pycharm": {
     "name": "#%%\n"
    }
   },
   "outputs": [
    {
     "data": {
      "text/plain": [
       "2"
      ]
     },
     "execution_count": 8,
     "metadata": {},
     "output_type": "execute_result"
    }
   ],
   "source": [
    "# Maximum distance to a reached node (i.e., nodes that do not have infinite distance)\n",
    "np.max(distances[distances < INFINITY])"
   ]
  },
  {
   "cell_type": "code",
   "execution_count": 9,
   "id": "041dd310",
   "metadata": {
    "pycharm": {
     "name": "#%%\n"
    }
   },
   "outputs": [
    {
     "data": {
      "text/plain": [
       "29352"
      ]
     },
     "execution_count": 9,
     "metadata": {},
     "output_type": "execute_result"
    }
   ],
   "source": [
    "# Number of reached nodes\n",
    "np.count_nonzero(distances != INFINITY)"
   ]
  },
  {
   "cell_type": "code",
   "execution_count": 10,
   "id": "9862731b",
   "metadata": {
     "nbreg": {
       "diff_ignore": ["/outputs/0/text"]
     }
   },
   "outputs": [
    {
     "name": "stdout",
     "output_type": "stream",
     "text": [
      "Average algorithm runtime (100 runs):\n",
      "1.813097900012508 ms\n"
     ]
    }
   ],
   "source": [
    "print(\"Average algorithm runtime (100 runs):\")\n",
    "print(timeit.timeit(lambda: bfs(graph, 0), number=100) / 100 * 1000, \"ms\")"
   ]
  },
  {
   "cell_type": "markdown",
   "id": "f7cfe694",
   "metadata": {},
   "source": [
    "Calling an Existing Katana Algorithm from Python\n",
    "================================================"
   ]
  },
  {
   "cell_type": "code",
   "execution_count": 11,
   "id": "5e27473d",
   "metadata": {},
   "outputs": [],
   "source": [
    "from katana import analytics\n",
    "\n",
    "# Clean the graph to allow rerunning cell\n",
    "try:\n",
    "    graph.remove_node_property(\"distance\")\n",
    "except KeyError:\n",
    "    pass\n",
    "\n",
    "analytics.bfs(graph, 0, \"distance\")\n",
    "\n",
    "distances = graph.get_node_property(\"distance\").to_numpy()"
   ]
  },
  {
   "cell_type": "code",
   "execution_count": 12,
   "id": "d26d0465",
   "metadata": {},
   "outputs": [
    {
     "data": {
      "text/plain": [
       "(array([0, 1, 1, 1, 1, 1, 1, 1, 1, 1, 1, 1, 1, 1, 1, 1, 1, 1, 1, 1],\n",
       "       dtype=uint32),\n",
       " array([1, 1, 1, 1, 1, 2, 1, 1, 1, 1, 1, 1, 1, 1, 1, 2, 1, 2, 1, 1],\n",
       "       dtype=uint32))"
      ]
     },
     "execution_count": 12,
     "metadata": {},
     "output_type": "execute_result"
    }
   ],
   "source": [
    "# Look at some arbitrary results\n",
    "distances[:20], distances[490:510]"
   ]
  },
  {
   "cell_type": "code",
   "execution_count": 13,
   "id": "93101cc6",
   "metadata": {},
   "outputs": [
    {
     "data": {
      "text/plain": [
       "2"
      ]
     },
     "execution_count": 13,
     "metadata": {},
     "output_type": "execute_result"
    }
   ],
   "source": [
    "# Maximum distance to a reached node (i.e., nodes that do not have infinite distance)\n",
    "np.max(distances[distances < INFINITY])"
   ]
  },
  {
   "cell_type": "code",
   "execution_count": 14,
   "id": "e5281cc4",
   "metadata": {},
   "outputs": [
    {
     "data": {
      "text/plain": [
       "29352"
      ]
     },
     "execution_count": 14,
     "metadata": {},
     "output_type": "execute_result"
    }
   ],
   "source": [
    "# Number of reached nodes\n",
    "np.count_nonzero(distances != INFINITY)"
   ]
  },
  {
   "cell_type": "code",
   "execution_count": 15,
   "id": "81a71d09",
   "metadata": {
    "scrolled": true,
    "nbreg": {
      "diff_ignore": ["/outputs/0/text"]
    }
   },
   "outputs": [
    {
     "name": "stdout",
     "output_type": "stream",
     "text": [
      "Average algorithm runtime (100 runs):\n",
      "1.3316418800968677 ms\n"
     ]
    }
   ],
   "source": [
    "def run_canned_bfs():\n",
    "    # Clean the graph to allow rerunning cell\n",
    "    try:\n",
    "        graph.remove_node_property(\"distance\")\n",
    "    except KeyError:\n",
    "        pass\n",
    "    \n",
    "    analytics.bfs(graph, 0, \"distance\")\n",
    "\n",
    "print(\"Average algorithm runtime (100 runs):\")\n",
    "print(timeit.timeit(run_canned_bfs, number=100) / 100 * 1000, \"ms\")"
   ]
  },
  {
   "cell_type": "code",
   "execution_count": 16,
   "id": "823d2b3e",
   "metadata": {},
   "outputs": [
    {
     "name": "stdout",
     "output_type": "stream",
     "text": [
      "Number of reached nodes = 29352\n",
      "Maximum distance = 2\n",
      "Average distance = 1.29242\n",
      "\n"
     ]
    }
   ],
   "source": [
    "print(analytics.BfsStatistics(graph, \"distance\"))"
   ]
  },
  {
   "cell_type": "markdown",
   "id": "3262b901",
   "metadata": {},
   "source": [
    "Scaling-out\n",
    "=========\n",
    "\n",
    "The open-source Katana supports graph algorithms on a single machine.\n",
    "This is useful and powerful, but limits graphs to those that can fit in memory on a single machine.\n",
    "Our enterprise offering supports graph algorithms on _distributed_ graphs.\n",
    "This supports much larger graphs, and much more computing power.\n",
    "Katana Enterprise will provide an interface similar to the one shown here for distributed graphs, including custom algorithms written in Python.\n",
    "\n",
    "(Python support for distributed graphs will be available in enterprise Katana by the end of Q2 2021.)"
   ]
  },
  {
   "cell_type": "markdown",
   "id": "6a7826df",
   "metadata": {},
   "source": [
    "Contact\n",
    "=======\n",
    "\n",
    "**https://katanagraph.com/**\n",
    "\n",
    "**Arthur Peters <amp@katanagraph.com>**"
   ]
  },
  {
   "cell_type": "code",
   "execution_count": 17,
   "id": "1ac4bf99",
   "metadata": {
    "pycharm": {
     "name": "#%%\n"
    }
   },
   "outputs": [],
   "source": [
    "# TODO(amp): Add link to Katana Python documentation when available.\n"
   ]
  }
 ],
 "metadata": {
  "nbreg": {
    "diff_ignore": [
      "/metadata/language_info/version"
    ]
  },
  "kernelspec": {
   "display_name": "Python 3",
   "language": "python",
   "name": "python3"
  },
  "language_info": {
   "codemirror_mode": {
    "name": "ipython",
    "version": 3
   },
   "file_extension": ".py",
   "mimetype": "text/x-python",
   "name": "python",
   "nbconvert_exporter": "python",
   "pygments_lexer": "ipython3",
   "version": "3.8.8"
  }
 },
 "nbformat": 4,
 "nbformat_minor": 5
}
