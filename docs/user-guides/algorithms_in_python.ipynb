{
 "cells": [
  {
   "cell_type": "markdown",
   "id": "44787261",
   "metadata": {},
   "source": [
    "Implementing an Algorithm in Katana Python\n",
    "=========================================="
   ]
  },
  {
   "cell_type": "code",
   "execution_count": null,
   "id": "134c188a",
   "metadata": {
    "pycharm": {
     "name": "#%%\n"
    },
    "tags": [
     "hidecode"
    ]
   },
   "outputs": [],
   "source": [
    "import numpy as np\n",
    "import timeit\n",
    "\n",
    "from katana.local import InsertBag, Graph\n",
    "from katana import do_all, do_all_operator\n",
    "\n",
    "import katana.local\n",
    "katana.local.initialize()"
   ]
  },
  {
   "cell_type": "code",
   "execution_count": 2,
   "id": "e0b43046",
   "metadata": {
    "pycharm": {
     "name": "#%%\n"
    }
   },
   "outputs": [],
   "source": [
    "# Constants\n",
    "INFINITY = 2**31-1"
   ]
  },
  {
   "cell_type": "code",
   "execution_count": 3,
   "id": "22ed5982",
   "metadata": {},
   "outputs": [],
   "source": [
    "def bfs(graph: Graph, source):\n",
    "    \"\"\"\n",
    "    Compute the BFS distance to all nodes from source.\n",
    "\n",
    "    The algorithm in bulk-synchronous level by level.\n",
    "\n",
    "    :param graph: The graph to use.\n",
    "    :param source: The source node for the traversal.\n",
    "    :return: An array of distances, indexed by node ID.\n",
    "    \"\"\"\n",
    "    next_level_number = 0\n",
    "\n",
    "    # The work lists for the current and next levels using a Katana concurrent data structure.\n",
    "    curr_level_worklist = InsertBag[np.uint32]()\n",
    "    next_level_worklist = InsertBag[np.uint32]()\n",
    "\n",
    "    # Create an initialize the distance array. source is 0, everywhere else is INFINITY\n",
    "    distance = np.empty((graph.num_nodes(),), dtype=np.uint32)\n",
    "    distance[:] = INFINITY\n",
    "    distance[source] = 0\n",
    "\n",
    "    # Start processing with just the source node.\n",
    "    next_level_worklist.push(source)\n",
    "    # Execute until the worklist is empty.\n",
    "    while not next_level_worklist.empty():\n",
    "        # Swap the current and next work lists\n",
    "        curr_level_worklist, next_level_worklist = next_level_worklist, curr_level_worklist\n",
    "\n",
    "        # Clear the worklist for the next level.\n",
    "        next_level_worklist.clear()\n",
    "        next_level_number += 1\n",
    "\n",
    "        # In parallel process the current worklist, by applying bfs_operator for each\n",
    "        # element of the worklist.\n",
    "        do_all(\n",
    "            curr_level_worklist,\n",
    "            # The call here binds the initial arguments of bfs_operator.\n",
    "            bfs_operator(graph, next_level_worklist, next_level_number, distance)\n",
    "        )\n",
    "\n",
    "    return distance"
   ]
  },
  {
   "cell_type": "code",
   "execution_count": 4,
   "id": "50389b02",
   "metadata": {},
   "outputs": [],
   "source": [
    "# This function is marked as a Katana operator meaning that it will be compiled to\n",
    "# native code and prepared for use with Katana do_all.\n",
    "@do_all_operator()\n",
    "def bfs_operator(graph: Graph, next_level_worklist, next_level_number, distance, node_id):\n",
    "    \"\"\"\n",
    "    The operator called for each node in the work list.\n",
    "\n",
    "    The initial 4 arguments are provided by bfs above. node_id is taken from\n",
    "    the worklist and passed to this function by do_all.\n",
    "\n",
    "    :param next_level_worklist: The work list to add next nodes to.\n",
    "    :param next_level_number: The level to assign to nodes we find.\n",
    "    :param distance: The distance array to fill with data.\n",
    "    :param node_id: The node we are processing.\n",
    "    :return:\n",
    "    \"\"\"\n",
    "    # Iterate over the out edges of our node\n",
    "    for edge_id in graph.out_edge_ids_for_node(node_id):\n",
    "        # Get the destination of the edge\n",
    "        dst = graph.out_edge_dst(edge_id)\n",
    "        # If the destination has not yet been reached set it's level and add it\n",
    "        # to the work list, so it's out edges can be processed in the next level.\n",
    "        if distance[dst] == INFINITY:\n",
    "            distance[dst] = next_level_number\n",
    "            next_level_worklist.push(dst)\n",
    "        # There is a race here, but it's safe. If multiple calls to operator add\n",
    "        # the same destination, they will all set the same level. It will create\n",
    "        # more work since the node will be processed more than once in the next\n",
    "        # level, but it avoids atomic operations, so it can still be a win in\n",
    "        # low-degree graphs."
   ]
  },
  {
   "cell_type": "code",
   "execution_count": null,
   "id": "0a864fb0",
   "metadata": {},
   "outputs": [],
   "source": [
    "from katana.example_data import get_rdg_dataset\n",
    "\n",
    "# Download the input\n",
    "rmat15_cleaned_symmetric_path = get_rdg_dataset(\"rmat15_cleaned_symmetric\")\n",
    "\n",
    "# Load our graph\n",
    "graph = Graph(rmat15_cleaned_symmetric_path)"
   ]
  },
  {
   "cell_type": "code",
   "execution_count": 6,
   "id": "a0925dde",
   "metadata": {
    "pycharm": {
     "name": "#%%\n"
    }
   },
   "outputs": [],
   "source": [
    "# Run our algorithm\n",
    "distances = bfs(graph, 0)"
   ]
  },
  {
   "cell_type": "code",
   "execution_count": 7,
   "id": "201e853b",
   "metadata": {
    "scrolled": true
   },
   "outputs": [
    {
     "data": {
      "text/plain": [
       "(array([0, 1, 1, 1, 1, 1, 1, 1, 1, 1, 1, 1, 1, 1, 1, 1, 1, 1, 1, 1],\n",
       "       dtype=uint32),\n",
       " array([1, 1, 1, 1, 1, 2, 1, 1, 1, 1, 1, 1, 1, 1, 1, 2, 1, 2, 1, 1],\n",
       "       dtype=uint32))"
      ]
     },
     "execution_count": 7,
     "metadata": {},
     "output_type": "execute_result"
    }
   ],
   "source": [
    "# Look at some arbitrary results\n",
    "distances[:20], distances[490:510]"
   ]
  },
  {
   "cell_type": "code",
   "execution_count": 8,
   "id": "f09930eb",
   "metadata": {
    "pycharm": {
     "name": "#%%\n"
    }
   },
   "outputs": [
    {
     "data": {
      "text/plain": [
       "2"
      ]
     },
     "execution_count": 8,
     "metadata": {},
     "output_type": "execute_result"
    }
   ],
   "source": [
    "# Maximum distance to a reached node (i.e., nodes that do not have infinite distance)\n",
    "np.max(distances[distances < INFINITY])"
   ]
  },
  {
   "cell_type": "code",
   "execution_count": 9,
   "id": "041dd310",
   "metadata": {
    "pycharm": {
     "name": "#%%\n"
    }
   },
   "outputs": [
    {
     "data": {
      "text/plain": [
       "29352"
      ]
     },
     "execution_count": 9,
     "metadata": {},
     "output_type": "execute_result"
    }
   ],
   "source": [
    "# Number of reached nodes\n",
    "np.count_nonzero(distances != INFINITY)"
   ]
  },
  {
   "cell_type": "markdown",
   "id": "9862731b",
   "metadata": {
    "nbreg": {
     "diff_ignore": [
      "/outputs/0/text"
     ]
    },
    "pycharm": {
     "name": "#%% md\n"
    }
   },
   "source": [
    "Even algorithms written in Python this way perform reasonably well."
   ]
  },
  {
   "cell_type": "code",
   "execution_count": 10,
   "id": "f7cfe694",
   "metadata": {
    "pycharm": {
     "name": "#%%\n"
    }
   },
   "outputs": [
    {
     "name": "stdout",
     "output_type": "stream",
     "text": [
      "Average algorithm runtime (over 100 runs):\n",
      "1.6204886100604199 ms\n"
     ]
    }
   ],
   "source": [
    "print(\"Average algorithm runtime (over 100 runs):\")\n",
    "print(timeit.timeit(lambda: bfs(graph, 0), number=100) / 100 * 1000, \"ms\")"
   ]
  }
 ],
 "metadata": {
  "kernelspec": {
   "display_name": "Python 3",
   "language": "python",
   "name": "python3"
  },
  "language_info": {
   "codemirror_mode": {
    "name": "ipython",
    "version": 3
   },
   "file_extension": ".py",
   "mimetype": "text/x-python",
   "name": "python",
   "nbconvert_exporter": "python",
   "pygments_lexer": "ipython3",
   "version": "3.8.12"
  },
  "nbreg": {
   "diff_ignore": [
    "/metadata/language_info/version"
   ]
  },
  "nbsphinx": {
   "orphan": true
  }
 },
 "nbformat": 4,
 "nbformat_minor": 5
}
